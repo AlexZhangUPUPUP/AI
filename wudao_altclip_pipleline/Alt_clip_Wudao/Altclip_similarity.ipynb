{
 "cells": [
  {
   "cell_type": "code",
   "execution_count": 34,
   "metadata": {},
   "outputs": [
    {
     "name": "stderr",
     "output_type": "stream",
     "text": [
      "Some weights of the model checkpoint at /home/alex/Alt_clip_Wudao/model/checkpoint-258420 were not used when initializing AltCLIPModel: ['text_model.transformation_pre.weight', 'text_model.transformation_pre.bias']\n",
      "- This IS expected if you are initializing AltCLIPModel from the checkpoint of a model trained on another task or with another architecture (e.g. initializing a BertForSequenceClassification model from a BertForPreTraining model).\n",
      "- This IS NOT expected if you are initializing AltCLIPModel from the checkpoint of a model that you expect to be exactly identical (initializing a BertForSequenceClassification model from a BertForSequenceClassification model).\n"
     ]
    }
   ],
   "source": [
    "from PIL import Image\n",
    "import requests\n",
    "import torch\n",
    "import torch.nn.functional as F\n",
    "from transformers import AutoProcessor, AltCLIPModel\n",
    "from transformers import AltCLIPModel, AltCLIPProcessor\n",
    "\n",
    "model = AltCLIPModel.from_pretrained(\"/home/alex/Alt_clip_Wudao/model/checkpoint-258420\").to(\"cuda\")\n",
    "processor = AltCLIPProcessor.from_pretrained(\"/home/alex/Alt_clip_Wudao/model/checkpoint-258420\")\n",
    "\n",
    "url = \"http://images.cocodataset.org/val2017/000000039769.jpg\"\n",
    "image = Image.open(requests.get(url, stream=True).raw)\n",
    "\n",
    "inputs = processor(text=[ \"一只猫和一只狗\"], images=image, return_tensors=\"pt\", padding=True).to(\"cuda\")\n",
    "\n",
    "outputs = model(**inputs)\n",
    "logits_per_image = outputs.logits_per_image  # this is the image-text similarity score\n",
    "probs = logits_per_image.softmax(dim=1)  # we can take the softmax to get the label probabilities"
   ]
  },
  {
   "cell_type": "code",
   "execution_count": 35,
   "metadata": {},
   "outputs": [],
   "source": [
    "# 用模型计算 # global age\n",
    "\n",
    "def input_output( text , image):\n",
    "    \n",
    "    inputs = processor(text=[ text], images=image, return_tensors=\"pt\", padding=True).to(\"cuda\")\n",
    "    outputs = model(**inputs)\n",
    "    \n",
    "    return outputs\n",
    "    \n",
    "    \n",
    "# 根据结果的得到余弦值\n",
    "def get_cosine_similarity(outputs):\n",
    "    text_embeds = outputs.text_embeds\n",
    "    image_embeds = outputs.image_embeds\n",
    "    cos_sim = torch.cosine_similarity(image_embeds,text_embeds).detach().cpu().numpy() # 余弦相似度\n",
    "    cos_sim = str(cos_sim)\n",
    "    print(\"余弦相似度 ：\"+ cos_sim)\n",
    "    return cos_sim"
   ]
  },
  {
   "cell_type": "code",
   "execution_count": 36,
   "metadata": {},
   "outputs": [
    {
     "name": "stdout",
     "output_type": "stream",
     "text": [
      "余弦相似度 ：[0.2478287]\n",
      "余弦相似度 ：[0.23274015]\n"
     ]
    }
   ],
   "source": [
    "out_a = input_output(\"一只猫和一只老鼠\",image)\n",
    "out_b = input_output(\"一只狗和一只猫\",image)\n",
    "\n",
    "a = get_cosine_similarity(out_a)\n",
    "b = get_cosine_similarity(out_b)\n"
   ]
  },
  {
   "cell_type": "code",
   "execution_count": 38,
   "metadata": {},
   "outputs": [],
   "source": [
    "# 把list 写进csv\n",
    "path_folder =\"/share/projset/baaishare/baai-mmdataset/wudaomm-5m\"\n",
    "\n",
    "import os\n",
    "import pandas as pd\n",
    "\n",
    "path = 'temp.csv'\n",
    "# 一次写入一行\n",
    "df = pd.DataFrame(data=[['1', '98.2789%']])\n",
    "# 一次写入多行\n",
    "df = pd.DataFrame(data=[['1', '98.2789%'], ['2', '76.2345%']])\n",
    "# 解决追加模式写的表头重复问题\n",
    "if not os.path.exists(path):\n",
    "    df.to_csv(path, header=['epoch', 'accuracy'], index=False, mode='a')\n",
    "else:\n",
    "    df.to_csv(path, header=False, index=False, mode='a')\n"
   ]
  }
 ],
 "metadata": {
  "kernelspec": {
   "display_name": "base",
   "language": "python",
   "name": "python3"
  },
  "language_info": {
   "codemirror_mode": {
    "name": "ipython",
    "version": 3
   },
   "file_extension": ".py",
   "mimetype": "text/x-python",
   "name": "python",
   "nbconvert_exporter": "python",
   "pygments_lexer": "ipython3",
   "version": "3.8.8"
  },
  "orig_nbformat": 4,
  "vscode": {
   "interpreter": {
    "hash": "d4d1e4263499bec80672ea0156c357c1ee493ec2b1c70f0acce89fc37c4a6abe"
   }
  }
 },
 "nbformat": 4,
 "nbformat_minor": 2
}
